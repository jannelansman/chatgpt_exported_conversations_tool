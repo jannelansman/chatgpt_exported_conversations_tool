{
 "cells": [
  {
   "cell_type": "markdown",
   "id": "2838b1f9-e505-4dfa-b729-f7f383c2d10b",
   "metadata": {},
   "source": [
    "# ChatGPT exported conversation search and rendering tool"
   ]
  },
  {
   "cell_type": "markdown",
   "id": "9191ecce-2143-4b52-942a-556197c3ef99",
   "metadata": {},
   "source": [
    "## Initialization"
   ]
  },
  {
   "cell_type": "markdown",
   "id": "5606b77d-54eb-4ff9-8549-13ac2889af29",
   "metadata": {},
   "source": [
    "### Imports"
   ]
  },
  {
   "cell_type": "code",
   "execution_count": 1,
   "id": "1ddbc9fe-6e4e-44e5-8a28-3c1584228927",
   "metadata": {
    "jupyter": {
     "source_hidden": true
    }
   },
   "outputs": [],
   "source": [
    "import json\n",
    "import re\n",
    "from configparser import ConfigParser\n",
    "from datetime import datetime\n",
    "from IPython.display import display, Markdown\n",
    "import ipywidgets as widgets"
   ]
  },
  {
   "cell_type": "markdown",
   "id": "446416c7-b6fe-4f58-9a3b-f247df68680a",
   "metadata": {},
   "source": [
    "### Function definitions"
   ]
  },
  {
   "cell_type": "code",
   "execution_count": 2,
   "id": "1dbcb2ae-486e-4c40-856e-333eef862466",
   "metadata": {
    "jupyter": {
     "source_hidden": true
    }
   },
   "outputs": [],
   "source": [
    "returns = {}\n",
    "\n",
    "def conversation_search(search_str, conversations, search_only_from_title=True, case_sensitive=False):\n",
    "    results = []\n",
    "    for i, conversation in enumerate(conversations):\n",
    "        result = {}\n",
    "        append_flag = False\n",
    "        title = conversation.get(\"title\")\n",
    "        conversation_str = return_conversation_string(conversation)\n",
    "        if case_sensitive and search_only_from_title and search_str in title:\n",
    "            append_flag = True\n",
    "        elif case_sensitive and not search_only_from_title and (search_str in title or search_str in conversation_str):\n",
    "            append_flag = True\n",
    "        elif not case_sensitive and search_only_from_title and search_str.lower() in title.lower():\n",
    "            append_flag = True\n",
    "        elif not case_sensitive and not search_only_from_title and (search_str.lower() in title.lower() or search_str.lower() in conversation_str.lower()):\n",
    "            append_flag = True\n",
    "        if append_flag:\n",
    "            timestamp = conversation.get(\"create_time\")\n",
    "            iso_time = datetime.fromtimestamp(timestamp).strftime(\"%F %T\")\n",
    "            result.update(\n",
    "                {\n",
    "                    \"list_index\": i,\n",
    "                    \"id\": conversation.get(\"conversation_id\"),\n",
    "                    \"creation_iso_time\": iso_time,\n",
    "                    \"title\": title,\n",
    "                }\n",
    "            )\n",
    "            results.append(result)\n",
    "    returns[\"results\"] = results\n",
    "    global conv_selection\n",
    "    conv_selection.options = [f\"\"\"{result.get(\"creation_iso_time\")} {result.get(\"title\").strip()}\"\"\" for result in results]\n",
    "    conv_selection.layout.height = f\"{max([24, (len(conv_selection.options) - 1)*16.61 + 24])}px\"\n",
    "    return results\n",
    "\n",
    "def return_conversation_string(conversation):\n",
    "    messages = []\n",
    "    for key, value in conversation.get(\"mapping\").items():\n",
    "        message = value.get(\"message\")\n",
    "        if message and not message.get(\"is_visually_hidden_from_conversation\"):\n",
    "            parts = message.get(\"content\").get(\"parts\")\n",
    "            if parts and message.get(\"content\").get(\"content_type\") == \"text\":\n",
    "                assert len(parts) == 1\n",
    "                messages.append(parts[0])\n",
    "    message_str = \"\\n\".join(messages)\n",
    "    return message_str\n",
    "\n",
    "\n",
    "def conv_to_markdown(conversation):\n",
    "    markdown = \"\"\n",
    "    create_time = conversation.get(\"create_time\")\n",
    "    title = conversation.get(\"title\")\n",
    "    conversation_id = conversation.get(\"conversation_id\")\n",
    "    if create_time and title and conversation_id:\n",
    "        title = title.strip()\n",
    "        iso_time = datetime.fromtimestamp(create_time).strftime(\"%F %T\")\n",
    "        url_prefix = \"https://chatgpt.com/c/\"\n",
    "        url = url_prefix + conversation_id\n",
    "        markdown += f\"# <u>{title}</u>\\n\"\n",
    "        markdown += f\"**{iso_time} - [{url}]({url})**  \\n\\n\"\n",
    "        markdown += \"---\\n\\n\"\n",
    "    for mapping in conversation.get(\"mapping\").values():\n",
    "        message = mapping.get(\"message\")\n",
    "        if not message:\n",
    "            continue\n",
    "        content = message.get(\"content\")\n",
    "        if not content:\n",
    "            continue\n",
    "        if content.get(\"content_type\") != \"text\":\n",
    "            continue\n",
    "        if not content.get(\"parts\"):\n",
    "            continue\n",
    "        metadata = message.get(\"metadata\")\n",
    "        if not metadata:\n",
    "            continue\n",
    "        if message.get(\"author\"):\n",
    "            role = message.get(\"author\").get(\"role\")\n",
    "        if metadata.get(\"is_visually_hidden_from_conversation\"):\n",
    "            continue\n",
    "        else:\n",
    "            parts = message.get(\"content\").get(\"parts\")\n",
    "            model_slug = message.get(\"metadata\").get(\"model_slug\")\n",
    "            if role == \"user\":\n",
    "                markdown += \"## <u>User prompt:</u>\\n\"\n",
    "            elif model_slug:\n",
    "                markdown += f\"\"\"## <u>{model_slug} response:</u>\\n\"\"\"\n",
    "            else:\n",
    "                markdown += f\"\"\"## <u>{role} response:</u>\\n\"\"\"\n",
    "                markdown += \"---\\n\"\n",
    "            assert len(parts) == 1, parts\n",
    "            markdown += f\"\"\"{parts[0]} \\n\\n\"\"\"\n",
    "            markdown += \"---  \\n\"\n",
    "    global returns\n",
    "    returns[\"markdown\"] = markdown\n",
    "    return markdown\n",
    "\n",
    "\n",
    "def return_conversation_based_on_id(conversations, conversation_id):\n",
    "    conversations = [conversation for conversation in conversations if conversation.get(\"conversation_id\") == conversation_id]\n",
    "    if conversations:\n",
    "        return conversations[0]\n",
    "    else:\n",
    "        return None\n",
    "\n",
    "def print_conv_titles(conversations):\n",
    "    for conv_data in conversations:\n",
    "        string = f\"{conv_data.get(\"list_index\")} - {conv_data.get(\"id\")} - {conv_data.get(\"creation_iso_time\")}- {conv_data.get(\"title\")}\"\n",
    "        print(string)\n",
    "\n",
    "\n",
    "def return_conv_by_dropdown_str(conversations, string):\n",
    "    date, time = string.split()[:2]\n",
    "    iso_time_str = \" \".join([date, time])\n",
    "    timestamp = int(datetime.fromisoformat(iso_time_str).timestamp())\n",
    "    conversations = [conv for conv in conversations if int(conv.get(\"create_time\")) == timestamp]\n",
    "    if conversations and len(conversations) == 1:\n",
    "        return conversations[0]\n",
    "    else:\n",
    "        return None\n",
    "\n",
    "\n",
    "def render_to_output_chain(conversations, string):\n",
    "    conversation = return_conv_by_dropdown_str(conversations, string)\n",
    "    if not conversation:\n",
    "        return\n",
    "    markdown = conv_to_markdown(conversation)\n",
    "    with output:\n",
    "        output.clear_output()\n",
    "        display(Markdown(markdown))\n",
    "    return"
   ]
  },
  {
   "cell_type": "markdown",
   "id": "a76c0909-464a-4946-b1ab-8a6e2eb7d777",
   "metadata": {},
   "source": [
    "### Widget initialization"
   ]
  },
  {
   "cell_type": "code",
   "execution_count": 3,
   "id": "73893012-f91d-4ba6-a81f-c7a566aa86e4",
   "metadata": {
    "jupyter": {
     "source_hidden": true
    }
   },
   "outputs": [],
   "source": [
    "case_sensitive = widgets.Checkbox(\n",
    "    value=False, description=\"Case sensitive\", disabled=False, indent=False\n",
    ")\n",
    "\n",
    "\n",
    "only_from_title = widgets.Checkbox(\n",
    "    value=True, description=\"Search only from titles\", disabled=False, indent=False\n",
    ")\n",
    "\n",
    "\n",
    "search_box = widgets.Text(\n",
    "    value=\"\",\n",
    "    placeholder=\"Type something\",\n",
    "    description=\"Search string:\",\n",
    "    disabled=False,\n",
    "    continuous_update=False,\n",
    "    layout=widgets.Layout(width=\"400px\"),\n",
    ")\n",
    "\n",
    "\n",
    "conv_selection = widgets.Select(\n",
    "    options=[\"-\"],\n",
    "    value=\"-\",\n",
    "    # rows=25,\n",
    "    description=\"Conversations:\",\n",
    "    disabled=False,\n",
    "    layout=widgets.Layout(width=\"500px\"),\n",
    ")\n",
    "\n",
    "\n",
    "search_box.observe(\n",
    "    lambda x: conversation_search(x.get(\"new\"), conversations, only_from_title.value, case_sensitive.value),\n",
    "    names=\"value\", type=\"change\",\n",
    ")\n",
    "\n",
    "\n",
    "render_button = widgets.Button(\n",
    "    description=\"Render selected\",\n",
    "    disabled=False,\n",
    "    button_style=\"\",  # 'success', 'info', 'warning', 'danger' or ''\n",
    "    tooltip=\"Render selected conversation\",\n",
    "    icon=\"check\",  # (FontAwesome names without the `fa-` prefix)\n",
    "    layout=widgets.Layout(width=\"150px\"),\n",
    ")\n",
    "\n",
    "\n",
    "render_button.on_click(\n",
    "    lambda x: render_to_output_chain(conversations, conv_selection.value)\n",
    ")\n",
    "\n",
    "\n",
    "output = widgets.Output()\n",
    "output.layout = widgets.Layout(width=\"960px\", border=\"1px solid black\", padding=\"50px\")"
   ]
  },
  {
   "cell_type": "markdown",
   "id": "aadb8101-ac25-4cf8-8c5d-bbb4e41a41c3",
   "metadata": {},
   "source": [
    "### Import conversation history"
   ]
  },
  {
   "cell_type": "code",
   "execution_count": 4,
   "id": "22a67885-6e9e-4bc3-b009-d99e07b0e675",
   "metadata": {
    "jupyter": {
     "source_hidden": true
    }
   },
   "outputs": [],
   "source": [
    "config = ConfigParser()\n",
    "config.read(\"config.ini\")\n",
    "conversation_path = config.get(\"conversations\", \"path\")\n",
    "with open(conversation_path, \"r\", encoding=\"utf-8\") as file:\n",
    "    conversations = json.load(file)"
   ]
  },
  {
   "cell_type": "markdown",
   "id": "39a86a5b-f3da-482f-9331-939e213ec3a2",
   "metadata": {},
   "source": [
    "## Conversation search & rendering"
   ]
  },
  {
   "cell_type": "code",
   "execution_count": 5,
   "id": "7c630c56-9cb3-427f-91cc-f76e38057e3a",
   "metadata": {
    "jupyter": {
     "source_hidden": true
    }
   },
   "outputs": [
    {
     "data": {
      "application/vnd.jupyter.widget-view+json": {
       "model_id": "50fc6fb097bf48868c981f7b867fc6d8",
       "version_major": 2,
       "version_minor": 0
      },
      "text/plain": [
       "GridBox(children=(Text(value='', continuous_update=False, description='Search string:', layout=Layout(width='4…"
      ]
     },
     "execution_count": 5,
     "metadata": {},
     "output_type": "execute_result"
    }
   ],
   "source": [
    "items = [item for item in (search_box, only_from_title, case_sensitive, conv_selection, render_button, output)]\n",
    "widgets.GridBox(items, layout=widgets.Layout(grid_template_columns=\"repeat(1, None)\"))"
   ]
  }
 ],
 "metadata": {
  "kernelspec": {
   "display_name": "Python 3 (ipykernel)",
   "language": "python",
   "name": "python3"
  },
  "language_info": {
   "codemirror_mode": {
    "name": "ipython",
    "version": 3
   },
   "file_extension": ".py",
   "mimetype": "text/x-python",
   "name": "python",
   "nbconvert_exporter": "python",
   "pygments_lexer": "ipython3",
   "version": "3.12.1"
  }
 },
 "nbformat": 4,
 "nbformat_minor": 5
}
